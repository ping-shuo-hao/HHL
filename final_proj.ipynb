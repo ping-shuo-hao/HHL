{
  "nbformat": 4,
  "nbformat_minor": 0,
  "metadata": {
    "colab": {
      "provenance": []
    },
    "kernelspec": {
      "name": "python3",
      "display_name": "Python 3"
    },
    "language_info": {
      "name": "python"
    }
  },
  "cells": [
    {
      "cell_type": "code",
      "source": [
        "import numpy as np\n",
        "from sklearn.linear_model import LinearRegression"
      ],
      "metadata": {
        "id": "OcaS7iW8oEMg"
      },
      "execution_count": 4,
      "outputs": []
    },
    {
      "cell_type": "code",
      "source": [
        "x = np.array([(np.sqrt(5)-1)/2,0,(-np.sqrt(5)-1)/2]).reshape((-1, 1))\n",
        "y = np.array([-1,3,-1])\n",
        "model = LinearRegression()\n",
        "model.fit(x, y)\n",
        "print(f\"y=: {model.coef_[0]}x+{model.intercept_}\"\"\")"
      ],
      "metadata": {
        "colab": {
          "base_uri": "https://localhost:8080/"
        },
        "id": "mUnhKUpRooQC",
        "outputId": "8e2459e8-4092-4ee8-a7a9-bb44632d1fe9"
      },
      "execution_count": null,
      "outputs": [
        {
          "output_type": "stream",
          "name": "stdout",
          "text": [
            "y=: 0.5000000000000002x+0.5\n"
          ]
        }
      ]
    },
    {
      "cell_type": "code",
      "source": [
        "from qiskit import QuantumCircuit, assemble, Aer, transpile\n",
        "from qiskit.visualization import plot_histogram, plot_bloch_vector"
      ],
      "metadata": {
        "id": "p-3uLIQeLMIY"
      },
      "execution_count": 2,
      "outputs": []
    },
    {
      "cell_type": "code",
      "source": [
        "state_prep=QuantumCircuit(1,0)\n",
        "state_prep.h(0)\n",
        "print(state_prep)"
      ],
      "metadata": {
        "colab": {
          "base_uri": "https://localhost:8080/"
        },
        "id": "-IgzykkYNCFD",
        "outputId": "30572660-d2de-431a-98f4-c7ec2639cb0c"
      },
      "execution_count": 21,
      "outputs": [
        {
          "output_type": "stream",
          "name": "stdout",
          "text": [
            "   ┌───┐\n",
            "q: ┤ H ├\n",
            "   └───┘\n"
          ]
        }
      ]
    },
    {
      "cell_type": "code",
      "source": [
        "qft = QuantumCircuit(2,0)\n",
        "qft.h(0)\n",
        "qft.cs(1,0)\n",
        "qft.h(1)\n",
        "qft.swap(0,1)\n",
        "print(qft)"
      ],
      "metadata": {
        "id": "Wjju36C0VI9n",
        "colab": {
          "base_uri": "https://localhost:8080/"
        },
        "outputId": "976efac3-d118-4d0e-c80e-69afe4167d55"
      },
      "execution_count": 22,
      "outputs": [
        {
          "output_type": "stream",
          "name": "stdout",
          "text": [
            "     ┌───┐┌───┐        \n",
            "q_0: ┤ H ├┤ S ├──────X─\n",
            "     └───┘└─┬─┘┌───┐ │ \n",
            "q_1: ───────■──┤ H ├─X─\n",
            "               └───┘   \n"
          ]
        }
      ]
    },
    {
      "cell_type": "code",
      "source": [
        "iqft = QuantumCircuit(2,0)\n",
        "iqft.swap(0,1)\n",
        "iqft.h(1)\n",
        "iqft.cp(-np.pi/2,1,0)\n",
        "iqft.h(0)\n",
        "print(iqft)"
      ],
      "metadata": {
        "colab": {
          "base_uri": "https://localhost:8080/"
        },
        "id": "CLr_usd0LxDZ",
        "outputId": "4b5318ed-1ef4-4e1c-b790-fdd130523a77"
      },
      "execution_count": 23,
      "outputs": [
        {
          "output_type": "stream",
          "name": "stdout",
          "text": [
            "                       ┌───┐\n",
            "q_0: ─X───────■────────┤ H ├\n",
            "      │ ┌───┐ │P(-π/2) └───┘\n",
            "q_1: ─X─┤ H ├─■─────────────\n",
            "        └───┘               \n"
          ]
        }
      ]
    },
    {
      "cell_type": "code",
      "source": [
        "qpe=QuantumCircuit(3,0)\n",
        "qpe.h([0,1])\n",
        "qpe.barrier()\n",
        "qpe.cz(1,2)\n",
        "qpe.cx(1,2)\n",
        "qpe.cz(1,2)\n",
        "qpe.barrier()\n",
        "qpe=qpe.compose(iqft,[0,1])\n",
        "print(qpe)"
      ],
      "metadata": {
        "colab": {
          "base_uri": "https://localhost:8080/"
        },
        "id": "whrrpzR2NSca",
        "outputId": "cc4901c3-f45a-4d3b-a00b-df97d8c1640c"
      },
      "execution_count": 33,
      "outputs": [
        {
          "output_type": "stream",
          "name": "stdout",
          "text": [
            "     ┌───┐ ░             ░                   ┌───┐\n",
            "q_0: ┤ H ├─░─────────────░──X───────■────────┤ H ├\n",
            "     ├───┤ ░             ░  │ ┌───┐ │P(-π/2) └───┘\n",
            "q_1: ┤ H ├─░──■───■───■──░──X─┤ H ├─■─────────────\n",
            "     └───┘ ░  │ ┌─┴─┐ │  ░    └───┘               \n",
            "q_2: ──────░──■─┤ X ├─■──░────────────────────────\n",
            "           ░    └───┘    ░                        \n"
          ]
        }
      ]
    },
    {
      "cell_type": "code",
      "source": [
        "rys=QuantumCircuit(3,0)\n",
        "rys.cry(np.pi,2,0)\n",
        "rys.cry(np.pi/3,1,0)\n",
        "print(rys)"
      ],
      "metadata": {
        "colab": {
          "base_uri": "https://localhost:8080/"
        },
        "id": "XM8V8n9GWB4i",
        "outputId": "2e155aab-1c4e-480e-b466-c3dd1ff59246"
      },
      "execution_count": 25,
      "outputs": [
        {
          "output_type": "stream",
          "name": "stdout",
          "text": [
            "     ┌───────┐┌─────────┐\n",
            "q_0: ┤ Ry(π) ├┤ Ry(π/3) ├\n",
            "     └───┬───┘└────┬────┘\n",
            "q_1: ────┼─────────■─────\n",
            "         │               \n",
            "q_2: ────■───────────────\n",
            "                         \n"
          ]
        }
      ]
    },
    {
      "cell_type": "code",
      "source": [
        "iqpe=QuantumCircuit(3,0)\n",
        "iqpe=iqpe.compose(qft,[0,1])\n",
        "iqpe.barrier()\n",
        "iqpe.cz(1,2)\n",
        "iqpe.cx(1,2)\n",
        "iqpe.cz(1,2)\n",
        "iqpe.barrier()\n",
        "iqpe.h([0,1])\n",
        "print(iqpe)"
      ],
      "metadata": {
        "colab": {
          "base_uri": "https://localhost:8080/"
        },
        "id": "N02L97ufWvkk",
        "outputId": "03dc1847-1e9c-4bb7-8ea3-09c4152ef211"
      },
      "execution_count": 34,
      "outputs": [
        {
          "output_type": "stream",
          "name": "stdout",
          "text": [
            "     ┌───┐┌───┐         ░             ░ ┌───┐\n",
            "q_0: ┤ H ├┤ S ├──────X──░─────────────░─┤ H ├\n",
            "     └───┘└─┬─┘┌───┐ │  ░             ░ ├───┤\n",
            "q_1: ───────■──┤ H ├─X──░──■───■───■──░─┤ H ├\n",
            "               └───┘    ░  │ ┌─┴─┐ │  ░ └───┘\n",
            "q_2: ───────────────────░──■─┤ X ├─■──░──────\n",
            "                        ░    └───┘    ░      \n"
          ]
        }
      ]
    },
    {
      "cell_type": "code",
      "source": [
        "hhl=QuantumCircuit(4,2)\n",
        "hhl=hhl.compose(state_prep,[3])\n",
        "hhl.barrier()\n",
        "hhl=hhl.compose(qpe,[1,2,3])\n",
        "hhl.barrier()\n",
        "hhl=hhl.compose(rys,[0,1,2])\n",
        "hhl.barrier()\n",
        "hhl.measure(0,1)\n",
        "hhl.barrier()\n",
        "hhl=hhl.compose(iqpe,[1,2,3])\n",
        "hhl.barrier()\n",
        "hhl.measure(3,0)\n",
        "print(hhl)"
      ],
      "metadata": {
        "colab": {
          "base_uri": "https://localhost:8080/"
        },
        "id": "44mhitpfX3vA",
        "outputId": "5bca2f3d-f2fc-4d1c-f4f1-01d0134f2194"
      },
      "execution_count": 36,
      "outputs": [
        {
          "output_type": "stream",
          "name": "stdout",
          "text": [
            "           ░                                               ░ ┌───────┐»\n",
            "q_0: ──────░───────────────────────────────────────────────░─┤ Ry(π) ├»\n",
            "           ░ ┌───┐ ░             ░                   ┌───┐ ░ └───┬───┘»\n",
            "q_1: ──────░─┤ H ├─░─────────────░──X───────■────────┤ H ├─░─────┼────»\n",
            "           ░ ├───┤ ░             ░  │ ┌───┐ │P(-π/2) └───┘ ░     │    »\n",
            "q_2: ──────░─┤ H ├─░──■───■───■──░──X─┤ H ├─■──────────────░─────■────»\n",
            "     ┌───┐ ░ └───┘ ░  │ ┌─┴─┐ │  ░    └───┘                ░          »\n",
            "q_3: ┤ H ├─░───────░──■─┤ X ├─■──░─────────────────────────░──────────»\n",
            "     └───┘ ░       ░    └───┘    ░                         ░          »\n",
            "c: 2/═════════════════════════════════════════════════════════════════»\n",
            "                                                                      »\n",
            "«     ┌─────────┐ ░ ┌─┐ ░                                          ░    \n",
            "«q_0: ┤ Ry(π/3) ├─░─┤M├─░──────────────────────────────────────────░────\n",
            "«     └────┬────┘ ░ └╥┘ ░ ┌───┐┌───┐         ░             ░ ┌───┐ ░    \n",
            "«q_1: ─────■──────░──╫──░─┤ H ├┤ S ├──────X──░─────────────░─┤ H ├─░────\n",
            "«                 ░  ║  ░ └───┘└─┬─┘┌───┐ │  ░             ░ ├───┤ ░    \n",
            "«q_2: ────────────░──╫──░────────■──┤ H ├─X──░──■───■───■──░─┤ H ├─░────\n",
            "«                 ░  ║  ░           └───┘    ░  │ ┌─┴─┐ │  ░ └───┘ ░ ┌─┐\n",
            "«q_3: ────────────░──╫──░────────────────────░──■─┤ X ├─■──░───────░─┤M├\n",
            "«                 ░  ║  ░                    ░    └───┘    ░       ░ └╥┘\n",
            "«c: 2/═══════════════╩════════════════════════════════════════════════╩═\n",
            "«                    1                                                0 \n"
          ]
        }
      ]
    },
    {
      "cell_type": "code",
      "source": [
        "sim = Aer.get_backend('aer_simulator')\n",
        "qobj = transpile(hhl, sim)\n",
        "result = sim.run(qobj,shots=10000).result()\n",
        "counts = result.get_counts()\n",
        "plot_histogram(counts)"
      ],
      "metadata": {
        "colab": {
          "base_uri": "https://localhost:8080/",
          "height": 461
        },
        "id": "NhHVQJFlZUmf",
        "outputId": "9afe4ad9-1deb-4163-96d0-e04114df76b2"
      },
      "execution_count": 43,
      "outputs": [
        {
          "output_type": "execute_result",
          "data": {
            "text/plain": [
              "<Figure size 700x500 with 1 Axes>"
            ],
            "image/png": "[encoded data removed]"
          },
          "metadata": {},
          "execution_count": 43
        }
      ]
    }
  ]
}